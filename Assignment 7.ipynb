{
 "cells": [
  {
   "cell_type": "markdown",
   "metadata": {},
   "source": [
    "# Assignment 7"
   ]
  },
  {
   "cell_type": "markdown",
   "metadata": {},
   "source": [
    "### Juliya Anuash, Akbota Kairatova\n",
    "### BDA - 1903"
   ]
  },
  {
   "cell_type": "code",
   "execution_count": 1,
   "metadata": {},
   "outputs": [
    {
     "data": {
      "text/plain": [
       "'00001100011001010000110000111111'"
      ]
     },
     "execution_count": 1,
     "metadata": {},
     "output_type": "execute_result"
    }
   ],
   "source": [
    "with open('Encoded_16.txt') as f:\n",
    "    encoded_16 = f.read()\n",
    "encoded_16"
   ]
  },
  {
   "cell_type": "code",
   "execution_count": 2,
   "metadata": {},
   "outputs": [
    {
     "data": {
      "text/plain": [
       "'110011000011110001011010111100001111111101010101'"
      ]
     },
     "execution_count": 2,
     "metadata": {},
     "output_type": "execute_result"
    }
   ],
   "source": [
    "with open('Encoded_8.txt') as f:\n",
    "    encoded_8 = f.read()\n",
    "encoded_8"
   ]
  },
  {
   "cell_type": "code",
   "execution_count": 3,
   "metadata": {},
   "outputs": [],
   "source": [
    "file_1 = open('decoded_16.txt',\"w+\")\n",
    "file_2 = open('decoded_8.txt',\"w+\")"
   ]
  },
  {
   "cell_type": "markdown",
   "metadata": {},
   "source": [
    "# Extended Hamming code (15, 11) \n",
    "\n",
    "### Responsibility of Akbota"
   ]
  },
  {
   "cell_type": "code",
   "execution_count": 4,
   "metadata": {},
   "outputs": [],
   "source": [
    "import re\n",
    "bit_16 = re.findall('................',encoded_16)"
   ]
  },
  {
   "cell_type": "code",
   "execution_count": 5,
   "metadata": {},
   "outputs": [
    {
     "data": {
      "text/plain": [
       "[('b1', '0000110001100101'), ('b2', '0000110000111111')]"
      ]
     },
     "execution_count": 5,
     "metadata": {},
     "output_type": "execute_result"
    }
   ],
   "source": [
    "block =[]\n",
    "i = 1\n",
    "for b in bit_16:\n",
    "    block.append(('b' + str(i), bit_16[i-1]))\n",
    "    i+=1\n",
    "block"
   ]
  },
  {
   "cell_type": "code",
   "execution_count": 6,
   "metadata": {},
   "outputs": [
    {
     "name": "stdout",
     "output_type": "stream",
     "text": [
      "0\n",
      "1\n"
     ]
    }
   ],
   "source": [
    "block_Nf = int(len(block) * 0.3)\n",
    "block_Nl = int(len(block) * 0.5)\n",
    "print(block_Nf)\n",
    "print(block_Nl)"
   ]
  },
  {
   "cell_type": "code",
   "execution_count": 7,
   "metadata": {},
   "outputs": [],
   "source": [
    "import random\n",
    "r = random.randint(block_Nf-1,block_Nl-1)"
   ]
  },
  {
   "cell_type": "code",
   "execution_count": 8,
   "metadata": {},
   "outputs": [
    {
     "data": {
      "text/plain": [
       "['0000110000111111']"
      ]
     },
     "execution_count": 8,
     "metadata": {},
     "output_type": "execute_result"
    }
   ],
   "source": [
    "original_b = []\n",
    "for i in range(block_Nf-1,block_Nl-1):\n",
    "    original_b.append(block[i][1])\n",
    "original_b "
   ]
  },
  {
   "cell_type": "code",
   "execution_count": 9,
   "metadata": {},
   "outputs": [],
   "source": [
    "error_b = []\n",
    "def ErrorGen1(bitstring):\n",
    "    for i in bitstring:\n",
    "            j = [4,6,7,8,10,11,12,13,14,15,16]\n",
    "            r = random.choice(j)\n",
    "            print('Original block:', i)\n",
    "            print('Error occured in',r, 'bit')\n",
    "            print('Bits before error bit:', i[:r-1])\n",
    "            print('Original bit:', i[r-1])\n",
    "            print('Bits after error bit:', i[r:])\n",
    "\n",
    "\n",
    "            if int(i[r-1]) == 1:\n",
    "                    i = i[:r-1] + '0' + i[r:]\n",
    "            elif int(i[r-1]) == 0:\n",
    "                    i = i[:r-1] + '1' + i[r:]\n",
    "            print('Block with error:', i)\n",
    "            print()\n",
    "            error_b.append(i)"
   ]
  },
  {
   "cell_type": "code",
   "execution_count": 10,
   "metadata": {},
   "outputs": [
    {
     "name": "stdout",
     "output_type": "stream",
     "text": [
      "Original block: 0000110000111111\n",
      "Error occured in 15 bit\n",
      "Bits before error bit: 00001100001111\n",
      "Original bit: 1\n",
      "Bits after error bit: 1\n",
      "Block with error: 0000110000111101\n",
      "\n"
     ]
    }
   ],
   "source": [
    "ErrorGen1(original_b)"
   ]
  },
  {
   "cell_type": "code",
   "execution_count": 11,
   "metadata": {},
   "outputs": [
    {
     "data": {
      "text/plain": [
       "['0000110000111101']"
      ]
     },
     "execution_count": 11,
     "metadata": {},
     "output_type": "execute_result"
    }
   ],
   "source": [
    "error_b"
   ]
  },
  {
   "cell_type": "code",
   "execution_count": 12,
   "metadata": {},
   "outputs": [],
   "source": [
    "correct_b = []\n",
    "def HammingDecode1(bitstring):\n",
    "    data_bits = {}\n",
    "    data_bits['b3'] = 3\n",
    "    data_bits['b5'] = 5\n",
    "    data_bits['b6'] = 6\n",
    "    data_bits['b7'] = 7\n",
    "    data_bits['b9'] = 9\n",
    "    data_bits['b10'] = 10\n",
    "    data_bits['b11'] = 11\n",
    "    data_bits['b12'] = 12\n",
    "    data_bits['b13'] = 13\n",
    "    data_bits['b14'] = 14\n",
    "    data_bits['b15'] = 15\n",
    "\n",
    "    for i in bitstring:\n",
    "\n",
    "            print(i, ':')\n",
    "            print('Checking parity bits:')\n",
    "\n",
    "            a = list(i)\n",
    "            for i in range(len(a)):\n",
    "                a[i] = int(a[i])\n",
    "            incorrect = {}\n",
    "\n",
    "            if (a[3] + a[5] + a[7] + a[9] + a[11] + a[13] + a[15])%2 != a[1]:\n",
    "                print('p1: b3+b5+b7+b9+b11+b13+b15 = ', a[3], '+', a[5], '+', a[7], '+', a[9], '+', a[11], '+'\n",
    "                      , a[13], '+', a[15], '=', a[1], 'incorrect')\n",
    "                incorrect['p1'] = 1 \n",
    "            else: \n",
    "                print('p1: b3+b5+b7+b9+b11+b13+b15 = ', a[3], '+', a[5], '+', a[7], '+', a[9], '+', a[11], '+'\n",
    "                      , a[13], '+', a[15], '=', a[1], 'correct')\n",
    "\n",
    "            if (a[3] + a[6] + a[7] + a[10] + a[11] + a[14] + a[15])%2 != a[2]:\n",
    "                print('p2: b3+b6+b7+b10+b11+b14+b15 = ', a[3], '+', a[6], '+', a[7], '+', a[10], '+', a[11], '+'\n",
    "                      , a[14], '+', a[15], '=', a[2], 'incorrect')\n",
    "                incorrect['p2'] = 2 \n",
    "            else: \n",
    "                print('p2: b3+b6+b7+b10+b11+b14+b15 = ', a[3], '+', a[6], '+', a[7], '+', a[10], '+', a[11], '+'\n",
    "                      , a[14], '+', a[15], '=', a[2], 'correct')\n",
    "\n",
    "\n",
    "            if (a[5] + a[6] + a[7] + a[12] + a[13] + a[14] + a[15])%2 != a[4]:\n",
    "                print('p4: b5+b6+b7+b12+b13+b14+b15 = ', a[5], '+', a[6], '+', a[7], '+', a[12], '+', a[13], '+'\n",
    "                      , a[14], '+', a[15], '=', a[4], 'incorrect')\n",
    "                incorrect['p4'] = 4 \n",
    "            else: \n",
    "                print('p4: b5+b6+b7+b12+b13+b14+b15 = ', a[5], '+', a[6], '+', a[7], '+', a[12], '+', a[13], '+'\n",
    "                      , a[14], '+', a[15], '=', a[4], 'correct')\n",
    "\n",
    "            if (a[9] + a[10] + a[11] + a[12] + a[13] + a[14] + a[15])%2 != a[8]:\n",
    "                print('p8: b9+b10+b11+b12+b13+b14+b15 = ', a[9], '+', a[10], '+', a[11], '+', a[12], '+', a[13], \n",
    "                      '+', a[14], '+', a[15], '=', a[8], 'incorrect')\n",
    "                incorrect['p8'] = 8\n",
    "            else:\n",
    "                print('p8: b9+b10+b11+b12+b13+b14+b15 = ', a[9], '+', a[10], '+', a[11], '+', a[12], '+', a[13], \n",
    "                      '+', a[14], '+', a[15], '=', a[8], 'correct')\n",
    "\n",
    "            if sum(a[1:])%2 != a[0]:\n",
    "                print('p0: ', a[1], '+', a[2], '+', a[3], '+', a[4], '+', a[5], '+', a[6], '+', a[7], '+', a[8], \n",
    "                      '+', a[9], '+', a[10], '+', a[11], '+', a[12], '+', a[13], '+', a[14], '+', a[15],\n",
    "                      '=', a[0], 'incorrect')\n",
    "                incorrect['p0'] = 0 \n",
    "            else:\n",
    "                print('p0: ', a[1], '+', a[2], '+', a[3], '+', a[4], '+', a[5], '+', a[6], '+', a[7], '+', a[8], \n",
    "                      '+', a[9], '+', a[10], '+', a[11], '+', a[12], '+', a[13], '+', a[14], '+', a[15],\n",
    "                      '=', a[0], 'correct')\n",
    "            c = 0\n",
    "            for value in incorrect: \n",
    "                c += int(incorrect[value])\n",
    "            print('Value sum:',c)\n",
    "\n",
    "\n",
    "            for key, value in data_bits.items():\n",
    "                if c == value:\n",
    "                    v = int(a[value])\n",
    "                    if v == 1:\n",
    "                        v = 0\n",
    "                        a.pop(value)\n",
    "                        a.insert(value, v)\n",
    "                    elif v == 0: \n",
    "                        v = 1\n",
    "                        a.pop(value)\n",
    "                        a.insert(value, v)\n",
    "\n",
    "\n",
    "\n",
    "            for i in range(len(a)):\n",
    "                a[i] = str(a[i])\n",
    "            separator = ''\n",
    "            Corrected_bitstring = separator.join(a)\n",
    "            Decoded_bitstring = a[3]+a[5]+a[6]+a[7]+a[9]+a[10]+a[11]+a[12]+a[13]+a[14]+a[15]\n",
    "            print('Corrected bitstring:', Corrected_bitstring)\n",
    "            print('Decoded bitstring:', Decoded_bitstring)\n",
    "            correct_b.append(Corrected_bitstring)\n",
    "            file_1.write(Decoded_bitstring)\n",
    "            print()\n",
    "\n"
   ]
  },
  {
   "cell_type": "code",
   "execution_count": 13,
   "metadata": {},
   "outputs": [
    {
     "name": "stdout",
     "output_type": "stream",
     "text": [
      "0000110000111101 :\n",
      "Checking parity bits:\n",
      "p1: b3+b5+b7+b9+b11+b13+b15 =  0 + 1 + 0 + 0 + 1 + 1 + 1 = 0 correct\n",
      "p2: b3+b6+b7+b10+b11+b14+b15 =  0 + 0 + 0 + 1 + 1 + 0 + 1 = 0 incorrect\n",
      "p4: b5+b6+b7+b12+b13+b14+b15 =  1 + 0 + 0 + 1 + 1 + 0 + 1 = 1 incorrect\n",
      "p8: b9+b10+b11+b12+b13+b14+b15 =  0 + 1 + 1 + 1 + 1 + 0 + 1 = 0 incorrect\n",
      "p0:  0 + 0 + 0 + 1 + 1 + 0 + 0 + 0 + 0 + 1 + 1 + 1 + 1 + 0 + 1 = 0 incorrect\n",
      "Value sum: 14\n",
      "Corrected bitstring: 0000110000111111\n",
      "Decoded bitstring: 01000111111\n",
      "\n"
     ]
    }
   ],
   "source": [
    "HammingDecode1(error_b)"
   ]
  },
  {
   "cell_type": "code",
   "execution_count": 14,
   "metadata": {},
   "outputs": [
    {
     "name": "stdout",
     "output_type": "stream",
     "text": [
      "['0000110000111111']\n",
      "['0000110000111101']\n",
      "['0000110000111111']\n",
      "True\n"
     ]
    }
   ],
   "source": [
    "print(original_b)\n",
    "print(error_b)\n",
    "print(correct_b)\n",
    "if original_b == correct_b:\n",
    "    print('True')\n",
    "else: \n",
    "    print('False')"
   ]
  },
  {
   "cell_type": "markdown",
   "metadata": {},
   "source": [
    "# Extended Hamming code (7, 4) \n",
    "\n",
    "### Responsibility of Juliya"
   ]
  },
  {
   "cell_type": "code",
   "execution_count": 15,
   "metadata": {},
   "outputs": [
    {
     "data": {
      "text/plain": [
       "['11001100', '00111100', '01011010', '11110000', '11111111', '01010101']"
      ]
     },
     "execution_count": 15,
     "metadata": {},
     "output_type": "execute_result"
    }
   ],
   "source": [
    "bit_8 = re.findall('........',encoded_8)\n",
    "bit_8"
   ]
  },
  {
   "cell_type": "code",
   "execution_count": 16,
   "metadata": {},
   "outputs": [
    {
     "data": {
      "text/plain": [
       "[('b1', '11001100'),\n",
       " ('b2', '00111100'),\n",
       " ('b3', '01011010'),\n",
       " ('b4', '11110000'),\n",
       " ('b5', '11111111'),\n",
       " ('b6', '01010101')]"
      ]
     },
     "execution_count": 16,
     "metadata": {},
     "output_type": "execute_result"
    }
   ],
   "source": [
    "block =[]\n",
    "i = 1\n",
    "for b in bit_8:\n",
    "    block.append(('b' + str(i), bit_8[i-1]))\n",
    "    i+=1\n",
    "block"
   ]
  },
  {
   "cell_type": "code",
   "execution_count": 17,
   "metadata": {},
   "outputs": [
    {
     "name": "stdout",
     "output_type": "stream",
     "text": [
      "1\n",
      "3\n"
     ]
    }
   ],
   "source": [
    "block_Nf = int(len(block) * 0.3)\n",
    "block_Nl = int(len(block) * 0.5)\n",
    "print(block_Nf)\n",
    "print(block_Nl)"
   ]
  },
  {
   "cell_type": "code",
   "execution_count": 18,
   "metadata": {},
   "outputs": [
    {
     "data": {
      "text/plain": [
       "['11001100', '00111100']"
      ]
     },
     "execution_count": 18,
     "metadata": {},
     "output_type": "execute_result"
    }
   ],
   "source": [
    "original_b = []\n",
    "for i in range(block_Nf-1,block_Nl-1):\n",
    "    original_b.append(block[i][1])\n",
    "original_b "
   ]
  },
  {
   "cell_type": "code",
   "execution_count": 19,
   "metadata": {},
   "outputs": [],
   "source": [
    "error_b = []\n",
    "def ErrorGen2(bitstring):\n",
    "    for i in bitstring:\n",
    "            j = [4,6,7,8]\n",
    "            r = random.choice(j)\n",
    "            print('Original block:', i)\n",
    "            print('Error occured in',r, 'bit')\n",
    "            print('Bits before error bit:', i[:r-1])\n",
    "            print('Original bit:', i[r-1])\n",
    "            print('Bits after error bit:', i[r:])\n",
    "\n",
    "\n",
    "            if int(i[r-1]) == 1:\n",
    "                    i = i[:r-1] + '0' + i[r:]\n",
    "            elif int(i[r-1]) == 0:\n",
    "                    i = i[:r-1] + '1' + i[r:]\n",
    "            print('Block with error:', i)\n",
    "            print()\n",
    "            error_b.append(i)"
   ]
  },
  {
   "cell_type": "code",
   "execution_count": 20,
   "metadata": {},
   "outputs": [
    {
     "name": "stdout",
     "output_type": "stream",
     "text": [
      "Original block: 11001100\n",
      "Error occured in 6 bit\n",
      "Bits before error bit: 11001\n",
      "Original bit: 1\n",
      "Bits after error bit: 00\n",
      "Block with error: 11001000\n",
      "\n",
      "Original block: 00111100\n",
      "Error occured in 7 bit\n",
      "Bits before error bit: 001111\n",
      "Original bit: 0\n",
      "Bits after error bit: 0\n",
      "Block with error: 00111110\n",
      "\n"
     ]
    }
   ],
   "source": [
    "ErrorGen2(original_b)"
   ]
  },
  {
   "cell_type": "code",
   "execution_count": 21,
   "metadata": {},
   "outputs": [
    {
     "data": {
      "text/plain": [
       "['11001000', '00111110']"
      ]
     },
     "execution_count": 21,
     "metadata": {},
     "output_type": "execute_result"
    }
   ],
   "source": [
    "error_b"
   ]
  },
  {
   "cell_type": "code",
   "execution_count": 22,
   "metadata": {},
   "outputs": [],
   "source": [
    "correct_b = []\n",
    "def HammingDecode2(bitstring):\n",
    "    data_bits = {}\n",
    "    data_bits['b3'] = 3\n",
    "    data_bits['b5'] = 5\n",
    "    data_bits['b6'] = 6\n",
    "    data_bits['b7'] = 7\n",
    "    for i in bitstring:\n",
    "            incorrect = {}\n",
    "            a = str(i)\n",
    "            l = list(a)\n",
    "            print(a, ':')\n",
    "            print('Checking parity bits:')\n",
    "\n",
    "            p0 = int(list(a)[0])\n",
    "            p1 = int(list(a)[1])\n",
    "            p2 = int(list(a)[2])\n",
    "            p3 = int(list(a)[4])\n",
    "            b3 = int(list(a)[3])\n",
    "            b5 = int(list(a)[5])\n",
    "            b6 = int(list(a)[6])\n",
    "            b7 = int(list(a)[7])\n",
    "\n",
    "            if ((b3 + b5 + b7)%2 != p1):\n",
    "                print('p1: b3+b5+b7 = ', b3, '+', b5, '+', b7, '=', p1, 'incorrect')\n",
    "                incorrect['p1'] = 1\n",
    "\n",
    "            else:\n",
    "                print('p1: b3+b5+b7 = ', b3, '+', b5, '+', b7, '=', p1, 'correct')\n",
    "\n",
    "            if ((b3 + b6 + b7)%2 != p2):\n",
    "                print('p2: b3+b6+b7 = ', b3, '+', b6, '+', b7, '=', p2, 'incorrect')\n",
    "                incorrect['p2'] = 2\n",
    "\n",
    "            else:\n",
    "                print('p2: b3+b6+b7 = ', b3, '+', b6, '+', b7, '=', p2, 'correct')\n",
    "\n",
    "            if ((b5 + b6 + b7)%2 != p3):\n",
    "                print('p3: b5+b6+b7 = ', b5, '+', b6, '+', b7, '=', p3, 'incorrect')\n",
    "                incorrect['p3'] = 4\n",
    "\n",
    "            else:\n",
    "                print('p3: b5+b6+b7 = ', b5, '+', b6, '+', b7, '=', p3, 'correct')\n",
    "\n",
    "            if ((p1 + p2 + p3 + b3 + b5 + b6 + b7)%2 != p0):\n",
    "                print('p0: b1+b2+b3+b4+b5+b6+b7 = ', p1, '+', p2, '+', p3, '+', b3, '+', b5, '+', b6, '+', b7, '=', p0, 'incorrect')\n",
    "                incorrect['p0'] = 0\n",
    "            else:\n",
    "                print('p0: b1+b2+b3+b4+b5+b6+b7 = ', p1, '+', p2, '+', p3, '+', b3, '+', b5, '+', b6, '+', b7, '=', p0, 'correct')\n",
    "            c = 0\n",
    "            for value in incorrect: \n",
    "                c += int(incorrect[value])\n",
    "            print('Value sum:',c)\n",
    "\n",
    "\n",
    "            for key, value in data_bits.items():\n",
    "                if c == value:\n",
    "                    v = int(l[value])\n",
    "                    if v == 1:\n",
    "                        v = 0\n",
    "                        l.pop(value)\n",
    "                        l.insert(value, v)\n",
    "                    elif v == 0: \n",
    "                        v = 1\n",
    "                        l.pop(value)\n",
    "                        l.insert(value, v)\n",
    "\n",
    "\n",
    "            Corrected_bitstring = str(p0) + str(p1) + str(p2) + str(l[3]) + str(p3) + str(l[5]) + str(l[6]) + str(l[7])  \n",
    "            Decoded_bitstring = str(l[3]) + str(l[5]) + str(l[6]) + str(l[7])\n",
    "            print('Corrected bitstring:', Corrected_bitstring)\n",
    "            print('Decoded bitstring:', Decoded_bitstring)\n",
    "            correct_b.append(Corrected_bitstring)\n",
    "            file_2.write(Decoded_bitstring)\n",
    "            print()\n"
   ]
  },
  {
   "cell_type": "code",
   "execution_count": 23,
   "metadata": {},
   "outputs": [
    {
     "name": "stdout",
     "output_type": "stream",
     "text": [
      "11001000 :\n",
      "Checking parity bits:\n",
      "p1: b3+b5+b7 =  0 + 0 + 0 = 1 incorrect\n",
      "p2: b3+b6+b7 =  0 + 0 + 0 = 0 correct\n",
      "p3: b5+b6+b7 =  0 + 0 + 0 = 1 incorrect\n",
      "p0: b1+b2+b3+b4+b5+b6+b7 =  1 + 0 + 1 + 0 + 0 + 0 + 0 = 1 incorrect\n",
      "Value sum: 5\n",
      "Corrected bitstring: 11001100\n",
      "Decoded bitstring: 0100\n",
      "\n",
      "00111110 :\n",
      "Checking parity bits:\n",
      "p1: b3+b5+b7 =  1 + 1 + 0 = 0 correct\n",
      "p2: b3+b6+b7 =  1 + 1 + 0 = 1 incorrect\n",
      "p3: b5+b6+b7 =  1 + 1 + 0 = 1 incorrect\n",
      "p0: b1+b2+b3+b4+b5+b6+b7 =  0 + 1 + 1 + 1 + 1 + 1 + 0 = 0 incorrect\n",
      "Value sum: 6\n",
      "Corrected bitstring: 00111100\n",
      "Decoded bitstring: 1100\n",
      "\n"
     ]
    }
   ],
   "source": [
    "HammingDecode2(error_b)"
   ]
  },
  {
   "cell_type": "code",
   "execution_count": 24,
   "metadata": {},
   "outputs": [
    {
     "name": "stdout",
     "output_type": "stream",
     "text": [
      "['11001100', '00111100']\n",
      "['11001000', '00111110']\n",
      "['11001100', '00111100']\n",
      "True\n"
     ]
    }
   ],
   "source": [
    "print(original_b)\n",
    "print(error_b)\n",
    "print(correct_b)\n",
    "if original_b == correct_b:\n",
    "    print('True')\n",
    "else: \n",
    "    print('False')"
   ]
  },
  {
   "cell_type": "code",
   "execution_count": 25,
   "metadata": {},
   "outputs": [],
   "source": [
    "file_1.close()\n",
    "file_2.close()"
   ]
  },
  {
   "cell_type": "markdown",
   "metadata": {},
   "source": [
    "## Running for all blocks"
   ]
  },
  {
   "cell_type": "code",
   "execution_count": 26,
   "metadata": {},
   "outputs": [],
   "source": [
    "file_1 = open('decoded_16.txt',\"w+\")\n",
    "file_2 = open('decoded_8.txt',\"w+\")"
   ]
  },
  {
   "cell_type": "code",
   "execution_count": 27,
   "metadata": {},
   "outputs": [
    {
     "name": "stdout",
     "output_type": "stream",
     "text": [
      "Original block: 0000110001100101\n",
      "Error occured in 11 bit\n",
      "Bits before error bit: 0000110001\n",
      "Original bit: 1\n",
      "Bits after error bit: 00101\n",
      "Block with error: 0000110001000101\n",
      "\n",
      "Original block: 0000110000111111\n",
      "Error occured in 14 bit\n",
      "Bits before error bit: 0000110000111\n",
      "Original bit: 1\n",
      "Bits after error bit: 11\n",
      "Block with error: 0000110000111011\n",
      "\n"
     ]
    }
   ],
   "source": [
    "ErrorGen1(bit_16)"
   ]
  },
  {
   "cell_type": "code",
   "execution_count": 28,
   "metadata": {},
   "outputs": [
    {
     "name": "stdout",
     "output_type": "stream",
     "text": [
      "0000110001100101 :\n",
      "Checking parity bits:\n",
      "p1: b3+b5+b7+b9+b11+b13+b15 =  0 + 1 + 0 + 1 + 0 + 1 + 1 = 0 correct\n",
      "p2: b3+b6+b7+b10+b11+b14+b15 =  0 + 0 + 0 + 1 + 0 + 0 + 1 = 0 correct\n",
      "p4: b5+b6+b7+b12+b13+b14+b15 =  1 + 0 + 0 + 0 + 1 + 0 + 1 = 1 correct\n",
      "p8: b9+b10+b11+b12+b13+b14+b15 =  1 + 1 + 0 + 0 + 1 + 0 + 1 = 0 correct\n",
      "p0:  0 + 0 + 0 + 1 + 1 + 0 + 0 + 0 + 1 + 1 + 0 + 0 + 1 + 0 + 1 = 0 correct\n",
      "Value sum: 0\n",
      "Corrected bitstring: 0000110001100101\n",
      "Decoded bitstring: 01001100101\n",
      "\n",
      "0000110000111111 :\n",
      "Checking parity bits:\n",
      "p1: b3+b5+b7+b9+b11+b13+b15 =  0 + 1 + 0 + 0 + 1 + 1 + 1 = 0 correct\n",
      "p2: b3+b6+b7+b10+b11+b14+b15 =  0 + 0 + 0 + 1 + 1 + 1 + 1 = 0 correct\n",
      "p4: b5+b6+b7+b12+b13+b14+b15 =  1 + 0 + 0 + 1 + 1 + 1 + 1 = 1 correct\n",
      "p8: b9+b10+b11+b12+b13+b14+b15 =  0 + 1 + 1 + 1 + 1 + 1 + 1 = 0 correct\n",
      "p0:  0 + 0 + 0 + 1 + 1 + 0 + 0 + 0 + 0 + 1 + 1 + 1 + 1 + 1 + 1 = 0 correct\n",
      "Value sum: 0\n",
      "Corrected bitstring: 0000110000111111\n",
      "Decoded bitstring: 01000111111\n",
      "\n"
     ]
    }
   ],
   "source": [
    "HammingDecode1(bit_16)"
   ]
  },
  {
   "cell_type": "code",
   "execution_count": 29,
   "metadata": {},
   "outputs": [
    {
     "name": "stdout",
     "output_type": "stream",
     "text": [
      "Original block: 11001100\n",
      "Error occured in 4 bit\n",
      "Bits before error bit: 110\n",
      "Original bit: 0\n",
      "Bits after error bit: 1100\n",
      "Block with error: 11011100\n",
      "\n",
      "Original block: 00111100\n",
      "Error occured in 4 bit\n",
      "Bits before error bit: 001\n",
      "Original bit: 1\n",
      "Bits after error bit: 1100\n",
      "Block with error: 00101100\n",
      "\n",
      "Original block: 01011010\n",
      "Error occured in 6 bit\n",
      "Bits before error bit: 01011\n",
      "Original bit: 0\n",
      "Bits after error bit: 10\n",
      "Block with error: 01011110\n",
      "\n",
      "Original block: 11110000\n",
      "Error occured in 6 bit\n",
      "Bits before error bit: 11110\n",
      "Original bit: 0\n",
      "Bits after error bit: 00\n",
      "Block with error: 11110100\n",
      "\n",
      "Original block: 11111111\n",
      "Error occured in 7 bit\n",
      "Bits before error bit: 111111\n",
      "Original bit: 1\n",
      "Bits after error bit: 1\n",
      "Block with error: 11111101\n",
      "\n",
      "Original block: 01010101\n",
      "Error occured in 7 bit\n",
      "Bits before error bit: 010101\n",
      "Original bit: 0\n",
      "Bits after error bit: 1\n",
      "Block with error: 01010111\n",
      "\n"
     ]
    }
   ],
   "source": [
    "ErrorGen2(bit_8)"
   ]
  },
  {
   "cell_type": "code",
   "execution_count": 30,
   "metadata": {},
   "outputs": [
    {
     "name": "stdout",
     "output_type": "stream",
     "text": [
      "11001100 :\n",
      "Checking parity bits:\n",
      "p1: b3+b5+b7 =  0 + 1 + 0 = 1 correct\n",
      "p2: b3+b6+b7 =  0 + 0 + 0 = 0 correct\n",
      "p3: b5+b6+b7 =  1 + 0 + 0 = 1 correct\n",
      "p0: b1+b2+b3+b4+b5+b6+b7 =  1 + 0 + 1 + 0 + 1 + 0 + 0 = 1 correct\n",
      "Value sum: 0\n",
      "Corrected bitstring: 11001100\n",
      "Decoded bitstring: 0100\n",
      "\n",
      "00111100 :\n",
      "Checking parity bits:\n",
      "p1: b3+b5+b7 =  1 + 1 + 0 = 0 correct\n",
      "p2: b3+b6+b7 =  1 + 0 + 0 = 1 correct\n",
      "p3: b5+b6+b7 =  1 + 0 + 0 = 1 correct\n",
      "p0: b1+b2+b3+b4+b5+b6+b7 =  0 + 1 + 1 + 1 + 1 + 0 + 0 = 0 correct\n",
      "Value sum: 0\n",
      "Corrected bitstring: 00111100\n",
      "Decoded bitstring: 1100\n",
      "\n",
      "01011010 :\n",
      "Checking parity bits:\n",
      "p1: b3+b5+b7 =  1 + 0 + 0 = 1 correct\n",
      "p2: b3+b6+b7 =  1 + 1 + 0 = 0 correct\n",
      "p3: b5+b6+b7 =  0 + 1 + 0 = 1 correct\n",
      "p0: b1+b2+b3+b4+b5+b6+b7 =  1 + 0 + 1 + 1 + 0 + 1 + 0 = 0 correct\n",
      "Value sum: 0\n",
      "Corrected bitstring: 01011010\n",
      "Decoded bitstring: 1010\n",
      "\n",
      "11110000 :\n",
      "Checking parity bits:\n",
      "p1: b3+b5+b7 =  1 + 0 + 0 = 1 correct\n",
      "p2: b3+b6+b7 =  1 + 0 + 0 = 1 correct\n",
      "p3: b5+b6+b7 =  0 + 0 + 0 = 0 correct\n",
      "p0: b1+b2+b3+b4+b5+b6+b7 =  1 + 1 + 0 + 1 + 0 + 0 + 0 = 1 correct\n",
      "Value sum: 0\n",
      "Corrected bitstring: 11110000\n",
      "Decoded bitstring: 1000\n",
      "\n",
      "11111111 :\n",
      "Checking parity bits:\n",
      "p1: b3+b5+b7 =  1 + 1 + 1 = 1 correct\n",
      "p2: b3+b6+b7 =  1 + 1 + 1 = 1 correct\n",
      "p3: b5+b6+b7 =  1 + 1 + 1 = 1 correct\n",
      "p0: b1+b2+b3+b4+b5+b6+b7 =  1 + 1 + 1 + 1 + 1 + 1 + 1 = 1 correct\n",
      "Value sum: 0\n",
      "Corrected bitstring: 11111111\n",
      "Decoded bitstring: 1111\n",
      "\n",
      "01010101 :\n",
      "Checking parity bits:\n",
      "p1: b3+b5+b7 =  1 + 1 + 1 = 1 correct\n",
      "p2: b3+b6+b7 =  1 + 0 + 1 = 0 correct\n",
      "p3: b5+b6+b7 =  1 + 0 + 1 = 0 correct\n",
      "p0: b1+b2+b3+b4+b5+b6+b7 =  1 + 0 + 0 + 1 + 1 + 0 + 1 = 0 correct\n",
      "Value sum: 0\n",
      "Corrected bitstring: 01010101\n",
      "Decoded bitstring: 1101\n",
      "\n"
     ]
    }
   ],
   "source": [
    "HammingDecode2(bit_8)"
   ]
  },
  {
   "cell_type": "code",
   "execution_count": 31,
   "metadata": {},
   "outputs": [],
   "source": [
    "file_1.close()\n",
    "file_2.close()"
   ]
  },
  {
   "cell_type": "code",
   "execution_count": 32,
   "metadata": {},
   "outputs": [
    {
     "data": {
      "text/plain": [
       "'0100110010101000111111'"
      ]
     },
     "execution_count": 32,
     "metadata": {},
     "output_type": "execute_result"
    }
   ],
   "source": [
    "with open('decoded_16.txt') as f:\n",
    "    decoded_16 = f.read()\n",
    "decoded_16"
   ]
  },
  {
   "cell_type": "code",
   "execution_count": 33,
   "metadata": {},
   "outputs": [
    {
     "data": {
      "text/plain": [
       "'010011001010100011111101'"
      ]
     },
     "execution_count": 33,
     "metadata": {},
     "output_type": "execute_result"
    }
   ],
   "source": [
    "with open('decoded_8.txt') as f:\n",
    "    decoded_8 = f.read()\n",
    "decoded_8"
   ]
  },
  {
   "cell_type": "code",
   "execution_count": 34,
   "metadata": {},
   "outputs": [
    {
     "data": {
      "text/plain": [
       "'010011001010100011111101'"
      ]
     },
     "execution_count": 34,
     "metadata": {},
     "output_type": "execute_result"
    }
   ],
   "source": [
    "with open('compressed.txt') as f:\n",
    "    compressed = f.read()\n",
    "compressed"
   ]
  },
  {
   "cell_type": "code",
   "execution_count": 36,
   "metadata": {},
   "outputs": [
    {
     "name": "stdout",
     "output_type": "stream",
     "text": [
      "True\n"
     ]
    }
   ],
   "source": [
    "if decoded_8 == compressed:\n",
    "    print('True')\n",
    "else: \n",
    "    print('False')"
   ]
  }
 ],
 "metadata": {
  "kernelspec": {
   "display_name": "Python 3",
   "language": "python",
   "name": "python3"
  },
  "language_info": {
   "codemirror_mode": {
    "name": "ipython",
    "version": 3
   },
   "file_extension": ".py",
   "mimetype": "text/x-python",
   "name": "python",
   "nbconvert_exporter": "python",
   "pygments_lexer": "ipython3",
   "version": "3.8.5"
  }
 },
 "nbformat": 4,
 "nbformat_minor": 4
}
