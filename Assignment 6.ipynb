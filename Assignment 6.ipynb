{
 "cells": [
  {
   "cell_type": "markdown",
   "metadata": {},
   "source": [
    "# Assignment 6"
   ]
  },
  {
   "cell_type": "markdown",
   "metadata": {},
   "source": [
    "### Juliya Anuash, Akbota Kairatova\n",
    "### BDA - 1903"
   ]
  },
  {
   "cell_type": "code",
   "execution_count": 1,
   "metadata": {},
   "outputs": [
    {
     "data": {
      "text/plain": [
       "'010011001010100011111101'"
      ]
     },
     "execution_count": 1,
     "metadata": {},
     "output_type": "execute_result"
    }
   ],
   "source": [
    "with open('compressed.txt') as f:\n",
    "    text = f.read()\n",
    "text"
   ]
  },
  {
   "cell_type": "markdown",
   "metadata": {},
   "source": [
    "# Extended Hamming code (15, 11) \n",
    "\n",
    "### Responsibility of Akbota"
   ]
  },
  {
   "cell_type": "code",
   "execution_count": 2,
   "metadata": {},
   "outputs": [
    {
     "data": {
      "text/plain": [
       "['01001100101', '01000111111']"
      ]
     },
     "execution_count": 2,
     "metadata": {},
     "output_type": "execute_result"
    }
   ],
   "source": [
    "import re\n",
    "bit_11 = re.findall('...........',text)\n",
    "bit_11"
   ]
  },
  {
   "cell_type": "code",
   "execution_count": 3,
   "metadata": {},
   "outputs": [],
   "source": [
    "block ={}\n",
    "i = 1\n",
    "for b in bit_11:\n",
    "    block[b] = 'b' + str(i)\n",
    "    i+=1"
   ]
  },
  {
   "cell_type": "code",
   "execution_count": 4,
   "metadata": {},
   "outputs": [
    {
     "data": {
      "text/plain": [
       "{'b1': '01001100101', 'b2': '01000111111'}"
      ]
     },
     "execution_count": 4,
     "metadata": {},
     "output_type": "execute_result"
    }
   ],
   "source": [
    "block = {value:key for key, value in block.items()}\n",
    "block"
   ]
  },
  {
   "cell_type": "code",
   "execution_count": 5,
   "metadata": {},
   "outputs": [],
   "source": [
    "file = open('Encoded.txt',\"w+\")"
   ]
  },
  {
   "cell_type": "code",
   "execution_count": 6,
   "metadata": {},
   "outputs": [],
   "source": [
    "def HammingEncode(bitstring):\n",
    "    import re\n",
    "    bit_11 = re.findall('...........',bitstring)\n",
    "    bit_11\n",
    "    \n",
    "    for i in bit_11:\n",
    "    \n",
    "        print(i, ':')\n",
    "\n",
    "        a = list(i)\n",
    "        a.insert(0,0)\n",
    "        a.insert(1,0)\n",
    "        a.insert(2,0)\n",
    "        a.insert(4,0)\n",
    "        a.insert(8,0)\n",
    "\n",
    "        for i in range(len(a)):\n",
    "            a[i] = int(a[i])\n",
    "\n",
    "\n",
    "        if (a[3] + a[5] + a[7] + a[9] + a[11] + a[13] + a[15])%2 != 0:\n",
    "            a[1] = 1\n",
    "            a.pop(1)\n",
    "            a.insert(1,1)\n",
    "        elif (a[3] + a[6] + a[7] + a[10] + a[11] + a[14] + a[15])%2 != 0:\n",
    "            a[2] = 1\n",
    "            a.pop(2)\n",
    "            a.insert(2,1)\n",
    "        elif (a[5] + a[6] + a[7] + a[12] + a[13] + a[14] + a[15])%2 != 0:\n",
    "            a[4] = 1\n",
    "            a.pop(4)\n",
    "            a.insert(4,1)\n",
    "        elif (a[9] + a[10] + a[11] + a[12] + a[13] + a[14] + a[15])%2 != 0:\n",
    "            a[8] = 1\n",
    "            a.pop(8)\n",
    "            a.insert(8,1)\n",
    "        elif sum(a[1:])%2 != 0:\n",
    "            a[0] = 1\n",
    "            a.pop(0)\n",
    "            a.insert(0,1)\n",
    "\n",
    "        print('p0 = ', a[0])\n",
    "        print('p1 = ', a[1])\n",
    "        print('p2 = ', a[2])\n",
    "        print('p4 = ', a[4])\n",
    "        print('p8 = ', a[8])\n",
    "\n",
    "        for i in range(len(a)):\n",
    "            a[i] = str(a[i])\n",
    "        separator = ''\n",
    "        Encoded_bitstring = separator.join(a)\n",
    "        Encoded_bitstring\n",
    "        print('Encoded bitstring:', Encoded_bitstring)\n",
    "        print()\n",
    "        file.write(Encoded_bitstring)\n",
    "        file.write('\\n')"
   ]
  },
  {
   "cell_type": "code",
   "execution_count": 7,
   "metadata": {},
   "outputs": [
    {
     "name": "stdout",
     "output_type": "stream",
     "text": [
      "01001100101 :\n",
      "p0 =  0\n",
      "p1 =  0\n",
      "p2 =  0\n",
      "p4 =  1\n",
      "p8 =  0\n",
      "Encoded bitstring: 0000110001100101\n",
      "\n",
      "01000111111 :\n",
      "p0 =  0\n",
      "p1 =  0\n",
      "p2 =  0\n",
      "p4 =  1\n",
      "p8 =  0\n",
      "Encoded bitstring: 0000110000111111\n",
      "\n"
     ]
    }
   ],
   "source": [
    "HammingEncode(text)"
   ]
  },
  {
   "cell_type": "code",
   "execution_count": 8,
   "metadata": {},
   "outputs": [
    {
     "name": "stdout",
     "output_type": "stream",
     "text": [
      "01010100101 :\n",
      "p0 =  0\n",
      "p1 =  0\n",
      "p2 =  1\n",
      "p4 =  0\n",
      "p8 =  0\n",
      "Encoded bitstring: 0010010100100101\n",
      "\n"
     ]
    }
   ],
   "source": [
    "HammingEncode('01010100101')"
   ]
  },
  {
   "cell_type": "markdown",
   "metadata": {},
   "source": [
    "-----"
   ]
  },
  {
   "cell_type": "markdown",
   "metadata": {},
   "source": [
    "-----"
   ]
  },
  {
   "cell_type": "markdown",
   "metadata": {},
   "source": [
    "# Extended Hamming code (7, 4) \n",
    "\n",
    "### Responsibility of Juliya"
   ]
  },
  {
   "cell_type": "code",
   "execution_count": 9,
   "metadata": {},
   "outputs": [
    {
     "data": {
      "text/plain": [
       "['0100', '1100', '1010', '1000', '1111', '1101']"
      ]
     },
     "execution_count": 9,
     "metadata": {},
     "output_type": "execute_result"
    }
   ],
   "source": [
    "blocks = re.findall('....',text)\n",
    "blocks"
   ]
  },
  {
   "cell_type": "code",
   "execution_count": 10,
   "metadata": {},
   "outputs": [],
   "source": [
    "block ={}\n",
    "i = 1\n",
    "for b in blocks:\n",
    "    block[b] = 'b' + str(i)\n",
    "    i+=1"
   ]
  },
  {
   "cell_type": "code",
   "execution_count": 11,
   "metadata": {},
   "outputs": [
    {
     "data": {
      "text/plain": [
       "{'b1': '0100',\n",
       " 'b2': '1100',\n",
       " 'b3': '1010',\n",
       " 'b4': '1000',\n",
       " 'b5': '1111',\n",
       " 'b6': '1101'}"
      ]
     },
     "execution_count": 11,
     "metadata": {},
     "output_type": "execute_result"
    }
   ],
   "source": [
    "block = {value:key for key, value in block.items()}\n",
    "block"
   ]
  },
  {
   "cell_type": "code",
   "execution_count": 12,
   "metadata": {},
   "outputs": [],
   "source": [
    "def HammingEncode2(bitstring):\n",
    "    \n",
    "    for i in bitstring:\n",
    "        a = str(i)\n",
    "        print(a, ':')\n",
    "        p0 = 0\n",
    "        p1 = 0\n",
    "        p2 = 0\n",
    "        p3 = 0\n",
    "        b3 = int(list(a)[0])\n",
    "        b5 = int(list(a)[1])\n",
    "        b6 = int(list(a)[2])\n",
    "        b7 = int(list(a)[3])\n",
    "\n",
    "        if ((b3 + b5 + b7)%2 != 0):\n",
    "            p1 = 1\n",
    "            print('p1: b3+b5+b7 = ', p1)\n",
    "        else:\n",
    "            p1 = 0\n",
    "            print('p1: b3+b5+b7 = ', p1)\n",
    "\n",
    "        if ((b3 + b6 + b7)%2 != 0):\n",
    "            p2 = 1\n",
    "            print('p2: b3+b6+b7 = ', p2)\n",
    "        else:\n",
    "            p2 = 0\n",
    "            print('p2: b3+b6+b7 = ', p2)\n",
    "\n",
    "        if ((b5 + b6 + b7)%2 != 0):\n",
    "            p4 = 1\n",
    "            print('p4: b5+b6+b7 = ', p4)\n",
    "        else:\n",
    "            p4 = 0\n",
    "            print('p3: b5+b6+b7 = ', p4)\n",
    "\n",
    "        if ((p1 + p2 + p3 + b3 + b5 + b6 + b7)%2 != 0):\n",
    "            p0 = 1\n",
    "            print('p0: b1+b2+b3+b4+b5+b6+b7 = ', p0)\n",
    "        else:\n",
    "            p0 = 0\n",
    "            print('p0: b1+b2+b3+b4+b5+b6+b7 = ', p0)\n",
    "        Encoded_bitstring = str(p0) + str(p1) + str(p2) + str(p3) + str(b3) + str(b5) + str(b6) + str(b7)  \n",
    "        print('Encoded bitstring:', Encoded_bitstring)\n",
    "        print()\n",
    "        file.write(Encoded_bitstring)\n",
    "        file.write('\\n')"
   ]
  },
  {
   "cell_type": "code",
   "execution_count": 13,
   "metadata": {},
   "outputs": [
    {
     "name": "stdout",
     "output_type": "stream",
     "text": [
      "0100 :\n",
      "p1: b3+b5+b7 =  1\n",
      "p2: b3+b6+b7 =  0\n",
      "p4: b5+b6+b7 =  1\n",
      "p0: b1+b2+b3+b4+b5+b6+b7 =  0\n",
      "Encoded bitstring: 01000100\n",
      "\n",
      "1100 :\n",
      "p1: b3+b5+b7 =  0\n",
      "p2: b3+b6+b7 =  1\n",
      "p4: b5+b6+b7 =  1\n",
      "p0: b1+b2+b3+b4+b5+b6+b7 =  1\n",
      "Encoded bitstring: 10101100\n",
      "\n",
      "1010 :\n",
      "p1: b3+b5+b7 =  1\n",
      "p2: b3+b6+b7 =  0\n",
      "p4: b5+b6+b7 =  1\n",
      "p0: b1+b2+b3+b4+b5+b6+b7 =  1\n",
      "Encoded bitstring: 11001010\n",
      "\n",
      "1000 :\n",
      "p1: b3+b5+b7 =  1\n",
      "p2: b3+b6+b7 =  1\n",
      "p3: b5+b6+b7 =  0\n",
      "p0: b1+b2+b3+b4+b5+b6+b7 =  1\n",
      "Encoded bitstring: 11101000\n",
      "\n",
      "1111 :\n",
      "p1: b3+b5+b7 =  1\n",
      "p2: b3+b6+b7 =  1\n",
      "p4: b5+b6+b7 =  1\n",
      "p0: b1+b2+b3+b4+b5+b6+b7 =  0\n",
      "Encoded bitstring: 01101111\n",
      "\n",
      "1101 :\n",
      "p1: b3+b5+b7 =  1\n",
      "p2: b3+b6+b7 =  0\n",
      "p3: b5+b6+b7 =  0\n",
      "p0: b1+b2+b3+b4+b5+b6+b7 =  0\n",
      "Encoded bitstring: 01001101\n",
      "\n"
     ]
    }
   ],
   "source": [
    "blocks = re.findall('....',text)\n",
    "\n",
    "HammingEncode2(blocks)"
   ]
  },
  {
   "cell_type": "code",
   "execution_count": 14,
   "metadata": {},
   "outputs": [],
   "source": [
    "file.close()"
   ]
  },
  {
   "cell_type": "code",
   "execution_count": 15,
   "metadata": {},
   "outputs": [
    {
     "data": {
      "text/plain": [
       "'0000110001100101\\n0000110000111111\\n0010010100100101\\n01000100\\n10101100\\n11001010\\n11101000\\n01101111\\n01001101\\n'"
      ]
     },
     "execution_count": 15,
     "metadata": {},
     "output_type": "execute_result"
    }
   ],
   "source": [
    "with open('encoded.txt') as f:\n",
    "    encoded = f.read()\n",
    "encoded"
   ]
  }
 ],
 "metadata": {
  "kernelspec": {
   "display_name": "Python 3",
   "language": "python",
   "name": "python3"
  },
  "language_info": {
   "codemirror_mode": {
    "name": "ipython",
    "version": 3
   },
   "file_extension": ".py",
   "mimetype": "text/x-python",
   "name": "python",
   "nbconvert_exporter": "python",
   "pygments_lexer": "ipython3",
   "version": "3.8.5"
  }
 },
 "nbformat": 4,
 "nbformat_minor": 4
}
